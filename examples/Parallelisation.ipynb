{
 "cells": [
  {
   "cell_type": "code",
   "execution_count": 48,
   "metadata": {
    "collapsed": false
   },
   "outputs": [
    {
     "data": {
      "text/plain": [
       "8x4 Array{Uint8,2}:\n",
       " 0x03  0x03  0x03  0x03\n",
       " 0x03  0x02  0x02  0x03\n",
       " 0x03  0x02  0x02  0x03\n",
       " 0x03  0x02  0x02  0x03\n",
       " 0x03  0x02  0x02  0x03\n",
       " 0x03  0x02  0x02  0x03\n",
       " 0x03  0x02  0x02  0x03\n",
       " 0x03  0x03  0x03  0x03"
      ]
     },
     "execution_count": 48,
     "metadata": {},
     "output_type": "execute_result"
    }
   ],
   "source": [
    "using LatBo\n",
    "\n",
    "mmHg = 133.3223684211\n",
    "Npoints = 8, 4\n",
    "δt, δx = 5e-4, 1e-3\n",
    "μ₀ = 0.01sqrt(1./3.) * δt / δx\n",
    "sim = lbgk(:D2Q9, Npoints, δt, δx; viscosity=4e-1, p₀=80.0 * mmHg, μ₀ = ones(2)μ₀)\n",
    "Playground.initialize(sim.playground) do i, j\n",
    "    coords = Float64[i, j]\n",
    "    if j == 1 || j == Npoints[2] || i == 1 || i == Npoints[1]\n",
    "        return Playground.SOLID\n",
    "    else\n",
    "        return Playground.FLUID\n",
    "    end\n",
    "end\n",
    "sim.playground"
   ]
  },
  {
   "cell_type": "code",
   "execution_count": 49,
   "metadata": {
    "collapsed": false
   },
   "outputs": [
    {
     "name": "stderr",
     "output_type": "stream",
     "text": [
      "Warning: replacing module parallel\n"
     ]
    }
   ],
   "source": [
    "include(\"../src/parallel/partition.jl\")\n",
    "using Graphs"
   ]
  },
  {
   "cell_type": "code",
   "execution_count": 50,
   "metadata": {
    "collapsed": false
   },
   "outputs": [
    {
     "data": {
      "text/plain": [
       "Undirected Graph (12 vertices, 26 edges)"
      ]
     },
     "execution_count": 50,
     "metadata": {},
     "output_type": "execute_result"
    }
   ],
   "source": [
    "graph = parallel.fluid_graph(sim.indexing, sim.lattice, sim.playground)"
   ]
  },
  {
   "cell_type": "code",
   "execution_count": 54,
   "metadata": {
    "collapsed": false
   },
   "outputs": [
    {
     "data": {
      "text/plain": [
       "12-element Array{Int64,1}:\n",
       " 10\n",
       " 11\n",
       " 12\n",
       " 13\n",
       " 14\n",
       " 15\n",
       " 18\n",
       " 19\n",
       " 20\n",
       " 21\n",
       " 22\n",
       " 23"
      ]
     },
     "execution_count": 54,
     "metadata": {},
     "output_type": "execute_result"
    }
   ],
   "source": [
    "graph.vertices"
   ]
  },
  {
   "cell_type": "code",
   "execution_count": 55,
   "metadata": {
    "collapsed": false
   },
   "outputs": [
    {
     "ename": "LoadError",
     "evalue": "Vertices must be numbered from 1\nwhile loading In[55], in expression starting on line 2",
     "output_type": "error",
     "traceback": [
      "Vertices must be numbered from 1\nwhile loading In[55], in expression starting on line 2",
      "",
      " in metisform at /home/mdavezac/.julia/v0.3/Metis/src/util.jl:5",
      " in partGraphRecursive at /home/mdavezac/.julia/v0.3/Metis/src/Metis.jl:75"
     ]
    }
   ],
   "source": [
    "using Metis\n",
    "a = Metis.partGraphRecursive(graph, 3)"
   ]
  }
 ],
 "metadata": {
  "kernelspec": {
   "display_name": "Julia 0.3.7",
   "language": "julia",
   "name": "julia 0.3"
  },
  "language_info": {
   "name": "julia",
   "version": "0.3.7"
  }
 },
 "nbformat": 4,
 "nbformat_minor": 0
}
